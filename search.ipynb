{
 "cells": [
  {
   "cell_type": "code",
   "execution_count": 2,
   "metadata": {},
   "outputs": [],
   "source": [
    "import cv2\n",
    "\n",
    "good=[]\n",
    "queryImage = cv2.imread('bupt/bupt1.jpg',0)\n",
    "trainingImage = cv2.imread('bupt/bupt2.jpg',0)\n"
   ]
  },
  {
   "cell_type": "code",
   "execution_count": 8,
   "metadata": {},
   "outputs": [
    {
     "name": "stdout",
     "output_type": "stream",
     "text": [
      "468\n",
      "(468, 128)\n"
     ]
    },
    {
     "data": {
      "text/plain": [
       "numpy.ndarray"
      ]
     },
     "execution_count": 8,
     "metadata": {},
     "output_type": "execute_result"
    }
   ],
   "source": [
    "sift = cv2.SIFT_create()\n",
    "kp1, des1 = sift.detectAndCompute(queryImage, None) # 返回关键点， 描述子\n",
    "kp2, des2 = sift.detectAndCompute(trainingImage, None) # 每个关键点对应一个128维的描述子向量\n",
    "print(len(kp1))\n",
    "print(des1.shape)\n",
    "type(des1)"
   ]
  },
  {
   "cell_type": "code",
   "execution_count": 12,
   "metadata": {},
   "outputs": [
    {
     "name": "stdout",
     "output_type": "stream",
     "text": [
      "It is a match! len(good) is 20\n"
     ]
    }
   ],
   "source": [
    "FLANN_INDEX_KDTREE = 0\n",
    "indexParams = dict(algorithm=FLANN_INDEX_KDTREE, trees=5)\n",
    "searchParams = dict(checks=50)\n",
    "\n",
    "flann = cv2.FlannBasedMatcher(indexParams, searchParams)\n",
    "# flann = cv2.FlannBasedMatcher()\n",
    "\n",
    "# K-最近邻匹配\n",
    "matches = flann.knnMatch(des1, des2, k=2)\n",
    "\n",
    "# 绘制一个空白图片\n",
    "matchesMask = [[0, 0] for i in range(len(matches))]\n",
    "\n",
    "# 绘制图像\n",
    "for i, (m, n) in enumerate(matches):\n",
    "    if m.distance < 0.7*n.distance:\n",
    "        matchesMask[i] = [1, 0]\n",
    "        good.append(m)\n",
    "\n",
    "# 图像参数\n",
    "drawParams = dict(matchColor=(0, 255, 0),\n",
    "                  singlePointColor=(255, 0, 0),\n",
    "                  matchesMask=matchesMask,\n",
    "                  flags=0)\n",
    "\n",
    "resultImage = cv2.drawMatchesKnn(queryImage, kp1, trainingImage, kp2, matches, None, **drawParams)\n",
    "\n",
    "# 检测是否匹配\n",
    "if len(good) > 1:\n",
    "    print(f'It is a match! len(good) is {len(good)}')\n",
    "\n",
    "# 设置显示窗口\n",
    "cv2.namedWindow('img', 0)\n",
    "cv2.resizeWindow('img', 840, 480)\n",
    "cv2.imshow('img', resultImage)\n",
    "cv2.waitKey(0)\n",
    "cv2.destroyAllWindows()"
   ]
  }
 ],
 "metadata": {
  "kernelspec": {
   "display_name": "kagami",
   "language": "python",
   "name": "python3"
  },
  "language_info": {
   "codemirror_mode": {
    "name": "ipython",
    "version": 3
   },
   "file_extension": ".py",
   "mimetype": "text/x-python",
   "name": "python",
   "nbconvert_exporter": "python",
   "pygments_lexer": "ipython3",
   "version": "3.8.16"
  },
  "orig_nbformat": 4
 },
 "nbformat": 4,
 "nbformat_minor": 2
}
